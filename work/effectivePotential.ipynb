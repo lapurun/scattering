{
 "cells": [
  {
   "cell_type": "markdown",
   "metadata": {},
   "source": [
    "$$\n",
    "U_{eff} = -\\frac{C_\\alpha}{r^\\alpha} + \\frac{l(l+1)\\hbar^2}{2mr^2}\n",
    "$$"
   ]
  },
  {
   "cell_type": "code",
   "execution_count": 2,
   "metadata": {},
   "outputs": [],
   "source": [
    "import numpy as np\n",
    "from matplotlib import pyplot as plt"
   ]
  },
  {
   "cell_type": "code",
   "execution_count": 10,
   "metadata": {},
   "outputs": [
    {
     "data": {
      "text/plain": [
       "Text(0.5, 1.0, 'He,alpha=7,l=3')"
      ]
     },
     "execution_count": 10,
     "metadata": {},
     "output_type": "execute_result"
    },
    {
     "data": {
      "image/png": "[encoded data removed]",
      "text/plain": [
       "<Figure size 432x288 with 4 Axes>"
      ]
     },
     "metadata": {
      "needs_background": "light"
     },
     "output_type": "display_data"
    }
   ],
   "source": [
    "r = np.linspace(0.01, 10, 1000)\n",
    "hbar = 1\n",
    "\n",
    "particles = {\n",
    "    'He': {'M':7296, 'C3': 1.9009, 'C4': 5163},\n",
    "    'Na': {'M':41908, 'C3': 1.889, 'C4': 1417},\n",
    "    'Rb': {'M':155798, 'C3': 0.733, 'C4': 1170},\n",
    "    'X': {'M':1, 'C3': 1, 'C4': 1},\n",
    "}\n",
    "\n",
    "def Ueff(r, l, alpha, C, M):\n",
    "    return -C/(r**alpha) + l*(l+1)*hbar**2/(2*M*r**2)\n",
    "\n",
    "particle = 'He'\n",
    "alpha = 7\n",
    "C = particles[particle]['C3']\n",
    "M = particles[particle]['M']\n",
    "\n",
    "plt.subplot(2,2,1)\n",
    "plt.plot(r, Ueff(r,0,alpha,C,M))\n",
    "ymax = max(Ueff(r,0,alpha,C,M))\n",
    "plt.xlim(0,10)\n",
    "plt.ylim(-1,1.5*(ymax+1))\n",
    "plt.title('{},alpha={},l={}'.format(particle, alpha, 0))\n",
    "\n",
    "plt.subplot(2,2,2)\n",
    "plt.plot(r, Ueff(r,1,alpha,C,M))\n",
    "ymax = max(Ueff(r,0,alpha,C,M))\n",
    "plt.xlim(0,10)\n",
    "plt.ylim(-0.3,1.5*(ymax+1))\n",
    "plt.title('{},alpha={},l={}'.format(particle, alpha, 1))\n",
    "\n",
    "\n",
    "plt.subplot(2,2,3)\n",
    "plt.plot(r, Ueff(r,2,alpha,C,M))\n",
    "ymax = max(Ueff(r,0,alpha,C,M))\n",
    "plt.xlim(0,10)\n",
    "plt.ylim(-1,1.5*(ymax+1))\n",
    "plt.title('{},alpha={},l={}'.format(particle, alpha, 2))\n",
    "\n",
    "\n",
    "plt.subplot(2,2,4)\n",
    "plt.plot(r, Ueff(r,3,alpha,C,M))\n",
    "ymax = max(Ueff(r,0,alpha,C,M))\n",
    "plt.xlim(0,10)\n",
    "plt.ylim(-1,1.5*(ymax+1))\n",
    "plt.title('{},alpha={},l={}'.format(particle, alpha, 3))\n"
   ]
  },
  {
   "cell_type": "markdown",
   "metadata": {},
   "source": [
    "補足：\n",
    "U'(r) =0となるrは\n",
    "$$\n",
    "r = \\frac{3mC}{l(l+1)\\hbar^2}\n",
    "$$"
   ]
  },
  {
   "cell_type": "markdown",
   "metadata": {},
   "source": [
    "有効ポテンシャルだけをプロットすると"
   ]
  },
  {
   "cell_type": "code",
   "execution_count": 20,
   "metadata": {},
   "outputs": [
    {
     "data": {
      "text/plain": [
       "(0, 10)"
      ]
     },
     "execution_count": 20,
     "metadata": {},
     "output_type": "execute_result"
    },
    {
     "data": {
      "image/png": "[encoded data removed]",
      "text/plain": [
       "<Figure size 432x288 with 1 Axes>"
      ]
     },
     "metadata": {
      "needs_background": "light"
     },
     "output_type": "display_data"
    }
   ],
   "source": [
    "def eff(r, l):\n",
    "    return l*(l+1)*hbar**2/(2*m*r**2)\n",
    "\n",
    "plt.plot(r, eff(r, 1))\n",
    "plt.xlim(0, 1)\n",
    "plt.ylim(0, 10)"
   ]
  },
  {
   "cell_type": "markdown",
   "metadata": {},
   "source": [
    "ftdt プログラムの調査"
   ]
  },
  {
   "cell_type": "code",
   "execution_count": 51,
   "metadata": {},
   "outputs": [
    {
     "name": "stdout",
     "output_type": "stream",
     "text": [
      "6000\n",
      "6000\n"
     ]
    },
    {
     "data": {
      "image/png": "[encoded data removed]",
      "text/plain": [
       "<Figure size 432x288 with 1 Axes>"
      ]
     },
     "metadata": {
      "needs_background": "light"
     },
     "output_type": "display_data"
    }
   ],
   "source": [
    "import numpy as np\n",
    "from matplotlib import pyplot as plt\n",
    "\n",
    "def dispersionForce(x, alpha, C):\n",
    "    \"dispersionForce U=1/x^alpha\"\n",
    "    return -C/x**alpha\n",
    "\n",
    "N = 1200\n",
    "alpha = 3\n",
    "C = 1.9009\n",
    "dx = 1\n",
    "magicNum = 5\n",
    "X    = np.linspace(0.001,N,N*magicNum)\n",
    "xn = range(0,int(N*magicNum))\n",
    "\n",
    "x = X[xn]/dx    #  Normalized position coordinate\n",
    "print(len(x))\n",
    "plt.xlim(0,10)\n",
    "print(len(x))\n",
    "plt.xlabel(r'$r$')\n",
    "plt.ylim(-0.3,0.5)\n",
    "plt.plot(x,dispersionForce(x, alpha, C))\n",
    "plt.show()"
   ]
  },
  {
   "cell_type": "code",
   "execution_count": null,
   "metadata": {},
   "outputs": [],
   "source": []
  }
 ],
 "metadata": {
  "kernelspec": {
   "display_name": "Python 3",
   "language": "python",
   "name": "python3"
  },
  "language_info": {
   "codemirror_mode": {
    "name": "ipython",
    "version": 3
   },
   "file_extension": ".py",
   "mimetype": "text/x-python",
   "name": "python",
   "nbconvert_exporter": "python",
   "pygments_lexer": "ipython3",
   "version": "3.6.8"
  }
 },
 "nbformat": 4,
 "nbformat_minor": 4
}

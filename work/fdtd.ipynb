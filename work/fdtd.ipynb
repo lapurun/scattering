{
 "cells": [
  {
   "cell_type": "code",
   "execution_count": null,
   "metadata": {},
   "outputs": [],
   "source": [
    "#not using\n",
    "\n",
    "# def free(npts):\n",
    "#     \"Free particle.\"\n",
    "#     return np.zeros(npts)\n",
    "\n",
    "# def step(npts,v0):\n",
    "#     \"Potential step\"\n",
    "#     v = free(npts)\n",
    "#     v[int(npts/2):] = v0\n",
    "#     return v\n",
    "\n",
    "# def barrier(npts,v0,thickness):\n",
    "#     \"Barrier potential\"\n",
    "#     v = free(npts)\n",
    "#     v[int(npts/2):int(npts/2)+thickness] = v0\n",
    "#     return v\n",
    "\n",
    "# def well(npts,v0):\n",
    "#     \"Well potential\"\n",
    "#     v = np.full(npts, -v0)\n",
    "# #     v[int(npts/2):int(npts/2)+10*thickness] = -v0\n",
    "#     return v\n",
    "\n",
    "# def fillax(x,y,*args,**kw):\n",
    "#     \"\"\"Fill the space between an array of y values and the x axis.\n",
    "#     All args/kwargs are passed to the pylab.fill function.\n",
    "#     Returns the value of the pylab.fill() call.\n",
    "#     \"\"\"\n",
    "#     xx = np.concatenate((x,np.array([x[-1],x[0]],x.dtype)))\n",
    "#     yy = np.concatenate((y,np.zeros(2,y.dtype)))\n",
    "#     return plt.fill(xx, yy, *args,**kw)\n",
    "\n"
   ]
  },
  {
   "cell_type": "code",
   "execution_count": 1,
   "metadata": {},
   "outputs": [],
   "source": [
    "import numpy as np\n",
    "import matplotlib.pyplot as plt\n",
    "import pylab\n",
    "import datetime\n",
    "from tqdm import tqdm\n",
    "import os\n",
    "import winsound\n",
    "\n",
    "#https://scipy-cookbook.readthedocs.io/items/SchrodingerFDTD.html\n",
    "# Set pylab to interactive mode so plots update when run outside ipython\n",
    "# pylab.ion()\n",
    "#=============================================================================\n",
    "# Utility functions\n",
    "#  Defines a quick Gaussian pulse function to act as an envelope to the \n",
    "#  function.\n",
    "\n",
    "def free(npts):\n",
    "    \"Free particle.\"\n",
    "    return np.zeros(npts)\n",
    "\n",
    "def Gaussian(x,t,sigma):\n",
    "    \"\"\"  A Gaussian curve.\n",
    "        x = Variable\n",
    "        t = time shift\n",
    "        sigma = standard deviation      \"\"\"\n",
    "    return np.exp(-(x-t)**2/(2*sigma**2))\n",
    "\n",
    "def coulomb(npts):\n",
    "    \"Coulomb potential\"\n",
    "    v = np.linspace(0.15,npts,npts)\n",
    "    return -1/v\n",
    "\n",
    "def dispersionForce(x, alpha, C):\n",
    "    \"dispersionForce U=1/x^alpha\"\n",
    "#     v = np.linspace(0.3,npts,npts)\n",
    "    return -C/x**alpha\n",
    "\n",
    "# def eff(npts, l, m):\n",
    "#     \"effective potential\"\n",
    "#     x = np.linspace(0.1, npts, npts)\n",
    "#     calculator = lambda t: (l*(l+1)*hbar**2)/(2*m*t**2)\n",
    "#     v = np.array([calculator(xi) for xi in x])\n",
    "#     return v\n",
    "\n",
    "def eff(x, l, m):\n",
    "    \"effective potential\"\n",
    "    calculator = lambda t: (l*(l+1)*hbar**2)/(2*m*t**2)\n",
    "    v = np.array([calculator(xi) for xi in x])\n",
    "    return v"
   ]
  },
  {
   "cell_type": "markdown",
   "metadata": {},
   "source": [
    "| / | M[a.u] | C3[a.u] | C4[a.u] |\n",
    "|----|--------|--------|------|\n",
    "| He | 7296   | 1.9009 | 5163 |\n",
    "| Na | 41908  | 1.889  | 1417 |\n",
    "| Rb | 155798 | 0.733  | 1170 |\n",
    "| X | 1 | 1  | 1 |\n"
   ]
  },
  {
   "cell_type": "code",
   "execution_count": 2,
   "metadata": {
    "scrolled": true
   },
   "outputs": [
    {
     "data": {
      "image/png": "[encoded data removed]",
      "text/plain": [
       "<Figure size 432x288 with 1 Axes>"
      ]
     },
     "metadata": {
      "needs_background": "light"
     },
     "output_type": "display_data"
    }
   ],
   "source": [
    "dx   = 1.0e0    #  Spatial resolution\n",
    "N    = 1200     #  Number of spatial points.\n",
    "hbar = 1.0e0    #  Plank's constant\n",
    "particle = 'He'\n",
    "alpha = 3\n",
    "l = 0\n",
    "\n",
    "particles = {\n",
    "    'He': {'M':7296, 'C3': 1.9009, 'C4': 5163},\n",
    "    'Na': {'M':41908, 'C3': 1.889, 'C4': 1417},\n",
    "    'Rb': {'M':155798, 'C3': 0.733, 'C4': 1170},\n",
    "    'X': {'M':1, 'C3': 1, 'C4': 1},\n",
    "}\n",
    "\n",
    "magicNum = 5\n",
    "d_today = datetime.date.today()\n",
    "\n",
    "X = dx*np.linspace(0.01,N,N*magicNum)\n",
    "V = dispersionForce(X, alpha, particles[particle]['C'+str(alpha)]) + eff(X,l, particles[particle]['M'])\n",
    "\n",
    "POTENTIAL = 'dispersionForce'\n",
    "plt.plot(X, V)\n",
    "plt.xlim(0,10)\n",
    "plt.xlabel('r')\n",
    "plt.ylim(-0.3,0.5)\n",
    "plt.ylabel(r'$-C_{\\alpha}/r^\\alpha + l(l+1)/2m$')\n",
    "plt.title('dispersionForce for '+r'${}(\\alpha={},l={})$'.format(particle, alpha, l))\n",
    "plt.savefig('potential/{}-{}-alpha-{}-l-{}-particle-{}.png'.format(d_today, POTENTIAL, alpha, l, particle))\n",
    "plt.show()"
   ]
  },
  {
   "cell_type": "code",
   "execution_count": 27,
   "metadata": {
    "scrolled": false
   },
   "outputs": [
    {
     "name": "stdout",
     "output_type": "stream",
     "text": [
      "x0= 400.0\n",
      "-1.0048763401559454e-09\n",
      "[-1.90088629e+03 -1.42514147e+00 -2.04787998e-01 ... -1.01008087e-09\n",
      " -1.00747419e-09 -1.00487634e-09]\n",
      "c2V len =  1200\n",
      "動径方向のOne-dimensional Schrodinger equation - time evolution\n",
      "Wavepacket energy:    1.7123431334103203e-06\n",
      "Potential type:       dispersionForce\n"
     ]
    },
    {
     "name": "stderr",
     "output_type": "stream",
     "text": [
      "  0%|                                                                                         | 0/1201 [00:00<?, ?it/s]C:\\Users\\reg\\Anaconda3\\lib\\site-packages\\ipykernel_launcher.py:178: RuntimeWarning: overflow encountered in square\n",
      "  5%|███▊                                                                           | 58/1201 [00:00<00:01, 579.84it/s]C:\\Users\\reg\\Anaconda3\\lib\\site-packages\\ipykernel_launcher.py:164: RuntimeWarning: overflow encountered in multiply\n",
      "C:\\Users\\reg\\Anaconda3\\lib\\site-packages\\ipykernel_launcher.py:169: RuntimeWarning: overflow encountered in multiply\n",
      "C:\\Users\\reg\\Anaconda3\\lib\\site-packages\\ipykernel_launcher.py:169: RuntimeWarning: invalid value encountered in add\n",
      "C:\\Users\\reg\\Anaconda3\\lib\\site-packages\\ipykernel_launcher.py:168: RuntimeWarning: invalid value encountered in add\n",
      "100%|█████████████████████████████████████████████████████████████████████████████| 1201/1201 [00:01<00:00, 671.90it/s]\n"
     ]
    },
    {
     "data": {
      "image/png": "[encoded data removed]",
      "text/plain": [
       "<Figure size 432x288 with 1 Axes>"
      ]
     },
     "metadata": {
      "needs_background": "light"
     },
     "output_type": "display_data"
    }
   ],
   "source": [
    "#=============================================================================\n",
    "#\n",
    "#  Simulation Constants.  Be sure to include decimal points on appropriate\n",
    "#  variables so they become floats instead of integers.\n",
    "#\n",
    "m = particles[particle]['M']\n",
    "particle = 'He'\n",
    "magicNum = 1\n",
    "\n",
    "POTENTIAL = 'dispersionForce'\n",
    "\n",
    "T    = int(1*N*magicNum)      #  Number of time steps.  5*N is a nice value for terminating\n",
    "               #  before anything reaches the boundaries.\n",
    "Tp   = 50       #  Number of time steps to increment before updating the plot.\n",
    "l = 1\n",
    "alpha = 3\n",
    "X    = dx*np.linspace(0.1,N,N*magicNum)        #  Spatial axis.\n",
    "xn = range(0,int(N*magicNum))\n",
    "x = X[xn]/dx    #  Normalized position coordinate\n",
    "\n",
    "# Potential parameters.  By playing with the type of potential and the height\n",
    "# and thickness (for barriers), you'll see the various transmission/reflection\n",
    "# regimes of quantum mechanical tunneling.\n",
    "#V0   = 1.0e-2   #  Potential amplitude (used for steps and barriers)\n",
    "#THCK = 15       # \"Thickness\" of the potential barrier (if appropriate\n",
    "                # V-function is chosen)\n",
    "# Uncomment the potential type you want to use here:\n",
    "# Zero potential, packet propagates freely.\n",
    "#POTENTIAL = 'free'\n",
    "# Potential step.  The height (V0) of the potential chosen above will determine\n",
    "# the amount of reflection/transmission you'll observe\n",
    "# Potential barrier.  Note that BOTH the potential height (V0) and thickness\n",
    "# of the barrier (THCK) affect the amount of tunneling vs reflection you'll\n",
    "# observe.\n",
    "#POTENTIAL = 'barrier'\n",
    "#  Initial wave function constants\n",
    "sigma = 40.0 # Standard deviation on the Gaussian envelope (remember Heisenberg\n",
    "             #  uncertainty).\n",
    "x0 = round(N/2) - 5*sigma # Time shift\n",
    "print('x0=',x0)\n",
    "# k0 = np.pi/20 # Wavenumber (note that energy is a function of k)\n",
    "k0 = np.pi/20\n",
    "# Energy for a localized gaussian wavepacket interacting with a localized\n",
    "# potential (so the interaction term can be neglected by computing the energy\n",
    "# integral over a region where V=0)\n",
    "E = (hbar**2/2.0/m)*(k0**2+0.5/sigma**2)\n",
    "#=============================================================================\n",
    "# Code begins\n",
    "#\n",
    "# You shouldn't need to change anything below unless you want to actually play\n",
    "# with the numerical algorithm or modify the plotting.\n",
    "#\n",
    "#  Fill in the appropriate potential function (is there a Python equivalent to\n",
    "#  the SWITCH statement?).\n",
    "\n",
    "if POTENTIAL=='free':\n",
    "    V = free(N*magicNum)\n",
    "elif POTENTIAL=='step':\n",
    "    V = step(N,V0)\n",
    "elif POTENTIAL=='barrier':\n",
    "    V = barrier(N,V0,THCK)\n",
    "elif POTENTIAL=='well':\n",
    "    V = well(N,V0)\n",
    "elif POTENTIAL=='coulomb':\n",
    "    V = coulomb(N*magicNum) + eff(N*magicNum,l,particles['X']['M'])\n",
    "elif POTENTIAL=='dispersionForce':\n",
    "    V = dispersionForce(x, alpha, particles[particle]['C'+str(alpha)]) + eff(x,1, particles[particle]['M'])\n",
    "else:\n",
    "    raise ValueError(\"Unrecognized potential type: %s\" % POTENTIAL)\n",
    "    \n",
    "#  More simulation parameters.  The maximum stable time step is a function of\n",
    "#  the potential, V.\n",
    "Vmax = V.max()   #  Maximum potential of the domain.\n",
    "print(V.max())\n",
    "Vmax = 1\n",
    "print(V)\n",
    "dt   = hbar/(2*hbar**2/(m*dx**2)+Vmax)         #  Critical time step.\n",
    "c1   = hbar*dt/(m*dx**2)                       #  Constant coefficient 1.\n",
    "c2   = 2*dt/hbar                               #  Constant coefficient 2.\n",
    "c2V  = c2*V  # pre-compute outside of update loop\n",
    "print('c2V len = ', len(c2V))\n",
    "# Print summary info\n",
    "print('動径方向のOne-dimensional Schrodinger equation - time evolution')\n",
    "print('Wavepacket energy:   ',E)\n",
    "print('Potential type:      ',POTENTIAL)\n",
    "# print('Potential height V0: ',V0)\n",
    "# print('Barrier thickness:   ',THCK)\n",
    "#  Wave functions.  Three states represent past, present, and future.\n",
    "psi_r = np.zeros((3,N*magicNum))#  Real\n",
    "psi_i = np.zeros((3,N*magicNum)) #  Imaginary\n",
    "psi_p = np.zeros(N,)   # Observable probability (magnitude-squared\n",
    "                          #  of the complex wave function).\n",
    "#  Temporal indexing constants, used for accessing rows of the wavefunctions.\n",
    "PA = 0                 #  Past\n",
    "PR = 1                 #  Present\n",
    "FU = 2                 #  Future\n",
    "#  Initialize wave function.  A present-only state will \"split\" with half the\n",
    "#  wave function propagating to the left and the other half to the right.\n",
    "#  Including a \"past\" state will cause it to propagate one way.\n",
    "\n",
    "gg = Gaussian(x,x0,sigma)\n",
    "cx = np.cos(-k0*x)\n",
    "sx = np.sin(-k0*x)\n",
    "psi_r[PR,xn] = cx*gg\n",
    "psi_i[PR,xn] = sx*gg\n",
    "psi_r[PA,xn] = cx*gg\n",
    "psi_i[PA,xn] = sx*gg\n",
    "# Initial normalization of wavefunctions\n",
    "#   Compute the observable probability.\n",
    "psi_p = psi_r[PR]**2 + psi_i[PR]**2\n",
    "#  Normalize the wave functions so that the total probability in the simulation\n",
    "#  is equal to 1.\n",
    "P   = dx * psi_p.sum()                      #  Total probability.\n",
    "nrm = np.sqrt(P)\n",
    "psi_r /= nrm\n",
    "psi_i /= nrm\n",
    "psi_p /= P\n",
    "#  Initialize the figure and axes.\n",
    "plt.figure()\n",
    "xmin = X.min()\n",
    "xmax = X.max()\n",
    "ymax = 1.5*(psi_r[PR]).max()\n",
    "plt.axis([xmin,xmax,-ymax,ymax])\n",
    "#  Initialize the plots with their own line objects.  The figures plot MUCH\n",
    "#  faster if you simply update the lines as opposed to redrawing the entire\n",
    "#  figure.  For reference, include the potential function as well.\n",
    "lineR, = plt.plot(X,psi_r[PR],'b',alpha=0.7,label='Real')\n",
    "lineI, = plt.plot(X,psi_i[PR],'r',alpha=0.7,label='Imag')\n",
    "lineP, = plt.plot(X,6*psi_p,'k',label='Prob')\n",
    "plt.title('effective potential:{}alpha={},l={},t={}'.format(particle,alpha,l,T))\n",
    "# For non-zero potentials, plot them and shade the classically forbidden region\n",
    "# in light red, as well as drawing a green line at the wavepacket's total\n",
    "# energy, in the same units the potential is being plotted.\n",
    "\n",
    "# if Vmax !=0 :\n",
    "#     # Scaling factor for energies, so they fit in the same plot as the\n",
    "#     # wavefunctions\n",
    "#     Efac = ymax/2.0/Vmax\n",
    "#     V_plot = V*Efac\n",
    "#     plt.plot(X,V_plot,':k',zorder=0)   #  Potential line.\n",
    "#     fillax(X,V_plot, facecolor='y', alpha=0.2,zorder=0)\n",
    "#     # Plot the wavefunction energy, in the same scale as the potential\n",
    "#     plt.axhline(E*Efac,color='g',label='Energy',zorder=1)\n",
    "        \n",
    "plt.legend(loc='lower right')\n",
    "plt.draw()\n",
    "# I think there's a problem with pylab, because it resets the xlim after\n",
    "# plotting the E line.  Fix it back manually.\n",
    "plt.xlim(xmin-10,xmax)\n",
    "#  Direct index assignment is MUCH faster than using a spatial FOR loop, so\n",
    "#  these constants are used in the update equations.  Remember that Python uses\n",
    "#  zero-based indexing.\n",
    "IDX1 = range(1,N*magicNum-1)                            #  psi [ k ]\n",
    "IDX2 = range(2,N*magicNum)                              #  psi [ k + 1 ]\n",
    "IDX3 = range(0,N*magicNum-2)                            #  psi [ k - 1 ]\n",
    "for t in tqdm(range(T+1)):\n",
    "    # Precompute a couple of indexing constants, this speeds up the computation\n",
    "    psi_rPR = psi_r[PR]\n",
    "    psi_iPR = psi_i[PR]\n",
    "    #  Apply the update equations.\n",
    "    psi_i[FU,IDX1] = psi_i[PA,IDX1] + \\\n",
    "                      c1*(psi_rPR[IDX2] - 2*psi_rPR[IDX1] +\n",
    "                          psi_rPR[IDX3])\n",
    "    psi_i[FU] -= c2V*psi_r[PR]\n",
    "\n",
    "    psi_r[FU,IDX1] = psi_r[PA,IDX1] - \\\n",
    "                      c1*(psi_iPR[IDX2] - 2*psi_iPR[IDX1] +\n",
    "                          psi_iPR[IDX3])\n",
    "    psi_r[FU] += c2V*psi_i[PR]\n",
    "    #  Increment the time steps.  PR -> PA and FU -> PR\n",
    "    psi_r[PA] = psi_rPR\n",
    "    psi_r[PR] = psi_r[FU]\n",
    "    psi_i[PA] = psi_iPR\n",
    "    psi_i[PR] = psi_i[FU]\n",
    "    #  Only plot after a few iterations to make the simulation run faster.\n",
    "    if t % Tp == 0:\n",
    "        #  Compute observable probability for the plot.\n",
    "        psi_p = psi_r[PR]**2 + psi_i[PR]**2\n",
    "        #  Update the plots.\n",
    "        lineR.set_ydata(psi_r[PR])\n",
    "        lineI.set_ydata(psi_i[PR])\n",
    "        # Note: we plot the probability density amplified by a factor so it's a\n",
    "        # bit easier to see.\n",
    "        lineP.set_ydata(6*psi_p)\n",
    "    \n",
    "        plt.draw()\n",
    "# So the windows don't auto-close at the end if run outside ipython\n",
    "# pylab.ioff()\n",
    "# plt.ylim(-0.05,0.05)aaaaa\n",
    "plt.plot(X,V)\n",
    "\n",
    "try:\n",
    "    os.mkdir(str(d_today))\n",
    "except:\n",
    "    pass\n",
    "\n",
    "if POTENTIAL == 'dispersionForce':\n",
    "    plt.savefig('{}/{}-{}-{}-alpha={}-l={}-t={}.png'.format(d_today, d_today, POTENTIAL, particle, alpha, l, T))\n",
    "else:\n",
    "    plt.savefig('{}/{}-{}-{}-alpha={}-l={}-t={}.png'.format(d_today, d_today, POTENTIAL, particle, alpha, l, T))\n",
    "# plt.xlim(0,200)\n",
    "plt.show()\n",
    "winsound.Beep(500, 1000)"
   ]
  },
  {
   "cell_type": "code",
   "execution_count": 336,
   "metadata": {},
   "outputs": [
    {
     "name": "stdout",
     "output_type": "stream",
     "text": [
      "2020-07-05\n",
      "c2V= [-3.73134212e+02 -8.27254093e-01 -1.26585395e-01 ... -8.85594211e-11\n",
      " -8.84475301e-11 -8.83358265e-11]\n",
      "lenght c2V= 2400\n"
     ]
    },
    {
     "ename": "IndexError",
     "evalue": "index 11999 is out of bounds for axis 0 with size 2400",
     "output_type": "error",
     "traceback": [
      "\u001b[1;31m---------------------------------------------------------------------------\u001b[0m",
      "\u001b[1;31mIndexError\u001b[0m                                Traceback (most recent call last)",
      "\u001b[1;32m<ipython-input-336-8dca7e6a5e7e>\u001b[0m in \u001b[0;36m<module>\u001b[1;34m\u001b[0m\n\u001b[0;32m     11\u001b[0m \u001b[1;33m\u001b[0m\u001b[0m\n\u001b[0;32m     12\u001b[0m \u001b[0mplt\u001b[0m\u001b[1;33m.\u001b[0m\u001b[0mdraw\u001b[0m\u001b[1;33m(\u001b[0m\u001b[1;33m)\u001b[0m\u001b[1;33m\u001b[0m\u001b[1;33m\u001b[0m\u001b[0m\n\u001b[1;32m---> 13\u001b[1;33m \u001b[0mnp\u001b[0m\u001b[1;33m.\u001b[0m\u001b[0mdelete\u001b[0m\u001b[1;33m(\u001b[0m\u001b[0mpsi_p\u001b[0m\u001b[1;33m,\u001b[0m \u001b[1;36m11999\u001b[0m\u001b[1;33m)\u001b[0m\u001b[1;33m\u001b[0m\u001b[1;33m\u001b[0m\u001b[0m\n\u001b[0m\u001b[0;32m     14\u001b[0m \u001b[0mplt\u001b[0m\u001b[1;33m.\u001b[0m\u001b[0mplot\u001b[0m\u001b[1;33m(\u001b[0m\u001b[0mx\u001b[0m\u001b[1;33m,\u001b[0m\u001b[0mnp\u001b[0m\u001b[1;33m.\u001b[0m\u001b[0mdelete\u001b[0m\u001b[1;33m(\u001b[0m\u001b[0mpsi_p\u001b[0m\u001b[1;33m,\u001b[0m \u001b[1;36m11999\u001b[0m\u001b[1;33m)\u001b[0m\u001b[1;33m)\u001b[0m\u001b[1;33m\u001b[0m\u001b[1;33m\u001b[0m\u001b[0m\n\u001b[0;32m     15\u001b[0m \u001b[0mplt\u001b[0m\u001b[1;33m.\u001b[0m\u001b[0mylim\u001b[0m\u001b[1;33m(\u001b[0m\u001b[1;33m-\u001b[0m\u001b[1;36m0.05\u001b[0m\u001b[1;33m,\u001b[0m\u001b[1;36m0.05\u001b[0m\u001b[1;33m)\u001b[0m\u001b[1;33m\u001b[0m\u001b[1;33m\u001b[0m\u001b[0m\n",
      "\u001b[1;32m~\\Anaconda3\\lib\\site-packages\\numpy\\lib\\function_base.py\u001b[0m in \u001b[0;36mdelete\u001b[1;34m(arr, obj, axis)\u001b[0m\n\u001b[0;32m   4374\u001b[0m             raise IndexError(\n\u001b[0;32m   4375\u001b[0m                 \u001b[1;34m\"index %i is out of bounds for axis %i with \"\u001b[0m\u001b[1;33m\u001b[0m\u001b[1;33m\u001b[0m\u001b[0m\n\u001b[1;32m-> 4376\u001b[1;33m                 \"size %i\" % (obj, axis, N))\n\u001b[0m\u001b[0;32m   4377\u001b[0m         \u001b[1;32mif\u001b[0m \u001b[1;33m(\u001b[0m\u001b[0mobj\u001b[0m \u001b[1;33m<\u001b[0m \u001b[1;36m0\u001b[0m\u001b[1;33m)\u001b[0m\u001b[1;33m:\u001b[0m\u001b[1;33m\u001b[0m\u001b[1;33m\u001b[0m\u001b[0m\n\u001b[0;32m   4378\u001b[0m             \u001b[0mobj\u001b[0m \u001b[1;33m+=\u001b[0m \u001b[0mN\u001b[0m\u001b[1;33m\u001b[0m\u001b[1;33m\u001b[0m\u001b[0m\n",
      "\u001b[1;31mIndexError\u001b[0m: index 11999 is out of bounds for axis 0 with size 2400"
     ]
    },
    {
     "data": {
      "text/plain": [
       "<Figure size 432x288 with 0 Axes>"
      ]
     },
     "metadata": {},
     "output_type": "display_data"
    }
   ],
   "source": [
    "print(d_today)\n",
    "print('c2V=',c2V)\n",
    "print('lenght c2V=',len(c2V))\n",
    "psi_p = psi_r[PR]**2 + psi_i[PR]**2\n",
    "        #  Update the plots.\n",
    "lineR.set_ydata(psi_r[PR])\n",
    "lineI.set_ydata(psi_i[PR])\n",
    "        # Note: we plot the probability density amplified by a factor so it's a\n",
    "        # bit easier to see.\n",
    "lineP.set_ydata(6*psi_p)\n",
    "\n",
    "plt.draw()\n",
    "np.delete(psi_p, 11999)\n",
    "plt.plot(x,np.delete(psi_p, 11999))\n",
    "plt.ylim(-0.05,0.05)\n",
    "# plt.show()\n",
    "\n",
    "\n",
    "print(T)\n",
    "# print(len(psi_p))"
   ]
  },
  {
   "cell_type": "code",
   "execution_count": 188,
   "metadata": {},
   "outputs": [
    {
     "name": "stdout",
     "output_type": "stream",
     "text": [
      "x0= 400.0\n"
     ]
    },
    {
     "data": {
      "text/plain": [
       "[<matplotlib.lines.Line2D at 0x1d382325550>]"
      ]
     },
     "execution_count": 188,
     "metadata": {},
     "output_type": "execute_result"
    },
    {
     "data": {
      "image/png": "[encoded data removed]",
      "text/plain": [
       "<Figure size 432x288 with 1 Axes>"
      ]
     },
     "metadata": {
      "needs_background": "light"
     },
     "output_type": "display_data"
    }
   ],
   "source": [
    "dx = 1\n",
    "magicNum = 10\n",
    "N = 1200\n",
    "\n",
    "x0 = round(N/2) - 5*sigma # Time shift\n",
    "\n",
    "print('x0=',x0)\n",
    "X    = dx*np.linspace(0.01,N,N*magicNum)        #  Spatial axis.\n",
    "xn = range(1,int(N*magicNum))\n",
    "x = X[xn]/dx    #  Normalized position coordinate\n",
    "\n",
    "gg = Gaussian(x,x0,sigma)\n",
    "plt.plot(x,gg)"
   ]
  },
  {
   "cell_type": "code",
   "execution_count": 183,
   "metadata": {
    "scrolled": true
   },
   "outputs": [
    {
     "name": "stdout",
     "output_type": "stream",
     "text": [
      "0.0\n"
     ]
    }
   ],
   "source": [
    "print(V.max())"
   ]
  },
  {
   "cell_type": "code",
   "execution_count": 24,
   "metadata": {},
   "outputs": [],
   "source": [
    "import csv\n",
    "\n",
    "with open('c2v.csv', 'w') as f:\n",
    "    writer = csv.writer(f)\n",
    "    writer.writerow(c2V)"
   ]
  },
  {
   "cell_type": "code",
   "execution_count": 34,
   "metadata": {},
   "outputs": [
    {
     "ename": "TypeError",
     "evalue": "'MovieWriterRegistry' object is not an iterator",
     "output_type": "error",
     "traceback": [
      "\u001b[0;31m---------------------------------------------------------------------------\u001b[0m",
      "\u001b[0;31mTypeError\u001b[0m                                 Traceback (most recent call last)",
      "\u001b[0;32m<ipython-input-34-3d20527e0781>\u001b[0m in \u001b[0;36m<module>\u001b[0;34m\u001b[0m\n\u001b[1;32m     39\u001b[0m \u001b[0;34m\u001b[0m\u001b[0m\n\u001b[1;32m     40\u001b[0m \u001b[0mani\u001b[0m \u001b[0;34m=\u001b[0m \u001b[0manimation\u001b[0m\u001b[0;34m.\u001b[0m\u001b[0mArtistAnimation\u001b[0m\u001b[0;34m(\u001b[0m\u001b[0mfig\u001b[0m\u001b[0;34m,\u001b[0m \u001b[0mimages\u001b[0m\u001b[0;34m,\u001b[0m \u001b[0minterval\u001b[0m\u001b[0;34m=\u001b[0m\u001b[0;36m100\u001b[0m\u001b[0;34m)\u001b[0m\u001b[0;34m\u001b[0m\u001b[0;34m\u001b[0m\u001b[0m\n\u001b[0;32m---> 41\u001b[0;31m \u001b[0mani\u001b[0m\u001b[0;34m.\u001b[0m\u001b[0msave\u001b[0m\u001b[0;34m(\u001b[0m\u001b[0;34m\"output.gif\"\u001b[0m\u001b[0;34m,\u001b[0m \u001b[0mwriter\u001b[0m\u001b[0;34m=\u001b[0m\u001b[0;34m\"imagemagick\"\u001b[0m\u001b[0;34m)\u001b[0m\u001b[0;34m\u001b[0m\u001b[0;34m\u001b[0m\u001b[0m\n\u001b[0m",
      "\u001b[0;32m/opt/anaconda3/lib/python3.7/site-packages/matplotlib/animation.py\u001b[0m in \u001b[0;36msave\u001b[0;34m(self, filename, writer, fps, dpi, codec, bitrate, extra_args, metadata, extra_anim, savefig_kwargs, progress_callback)\u001b[0m\n\u001b[1;32m   1100\u001b[0m                                          metadata=metadata)\n\u001b[1;32m   1101\u001b[0m             \u001b[0;32melse\u001b[0m\u001b[0;34m:\u001b[0m\u001b[0;34m\u001b[0m\u001b[0;34m\u001b[0m\u001b[0m\n\u001b[0;32m-> 1102\u001b[0;31m                 \u001b[0malt_writer\u001b[0m \u001b[0;34m=\u001b[0m \u001b[0mnext\u001b[0m\u001b[0;34m(\u001b[0m\u001b[0mwriters\u001b[0m\u001b[0;34m,\u001b[0m \u001b[0;32mNone\u001b[0m\u001b[0;34m)\u001b[0m\u001b[0;34m\u001b[0m\u001b[0;34m\u001b[0m\u001b[0m\n\u001b[0m\u001b[1;32m   1103\u001b[0m                 \u001b[0;32mif\u001b[0m \u001b[0malt_writer\u001b[0m \u001b[0;32mis\u001b[0m \u001b[0;32mNone\u001b[0m\u001b[0;34m:\u001b[0m\u001b[0;34m\u001b[0m\u001b[0;34m\u001b[0m\u001b[0m\n\u001b[1;32m   1104\u001b[0m                     raise ValueError(\"Cannot save animation: no writers are \"\n",
      "\u001b[0;31mTypeError\u001b[0m: 'MovieWriterRegistry' object is not an iterator"
     ]
    },
    {
     "data": {
      "image/png": "[encoded data removed]",
      "text/plain": [
       "<Figure size 432x288 with 1 Axes>"
      ]
     },
     "metadata": {
      "needs_background": "light"
     },
     "output_type": "display_data"
    }
   ],
   "source": [
    "import matplotlib.animation as animation\n",
    "\n",
    "images = []\n",
    "fig = plt.figure()\n",
    "\n",
    "for j in np.arange(50,T, 100):\n",
    "    for t in range(T+1):\n",
    "        # Precompute a couple of indexing constants, this speeds up the computation\n",
    "        psi_rPR = psi_r[PR]\n",
    "        psi_iPR = psi_i[PR]\n",
    "        #  Apply the update equations.\n",
    "        psi_i[FU,IDX1] = psi_i[PA,IDX1] + \\\n",
    "                          c1*(psi_rPR[IDX2] - 2*psi_rPR[IDX1] +\n",
    "                              psi_rPR[IDX3])\n",
    "        psi_i[FU] -= c2V*psi_r[PR]\n",
    "\n",
    "        psi_r[FU,IDX1] = psi_r[PA,IDX1] - \\\n",
    "                          c1*(psi_iPR[IDX2] - 2*psi_iPR[IDX1] +\n",
    "                              psi_iPR[IDX3])\n",
    "        psi_r[FU] += c2V*psi_i[PR]\n",
    "        #  Increment the time steps.  PR -> PA and FU -> PR\n",
    "        psi_r[PA] = psi_rPR\n",
    "        psi_r[PR] = psi_r[FU]\n",
    "        psi_i[PA] = psi_iPR\n",
    "        psi_i[PR] = psi_i[FU]\n",
    "        #  Only plot after a few iterations to make the simulation run faster.\n",
    "        if t % Tp == 0:\n",
    "            #  Compute observable probability for the plot.\n",
    "            psi_p = psi_r[PR]**2 + psi_i[PR]**2\n",
    "            #  Update the plots.\n",
    "            lineR.set_ydata(psi_r[PR])\n",
    "            lineI.set_ydata(psi_i[PR])\n",
    "            # Note: we plot the probability density amplified by a factor so it's a\n",
    "            # bit easier to see.\n",
    "            lineP.set_ydata(6*psi_p)\n",
    "\n",
    "            im = plt.plot()\n",
    "            images.append(im)\n",
    "\n",
    "ani = animation.ArtistAnimation(fig, images, interval=100)\n",
    "ani.save(\"output.gif\", writer=\"imagemagick\")"
   ]
  },
  {
   "cell_type": "code",
   "execution_count": 38,
   "metadata": {},
   "outputs": [
    {
     "name": "stdout",
     "output_type": "stream",
     "text": [
      "[1.00000000e-01 1.10075063e+00 2.10150125e+00 ... 1.19799850e+03\n",
      " 1.19899925e+03 1.20000000e+03]\n"
     ]
    },
    {
     "data": {
      "text/plain": [
       "[<matplotlib.lines.Line2D at 0x1785d3f2320>]"
      ]
     },
     "execution_count": 38,
     "metadata": {},
     "output_type": "execute_result"
    },
    {
     "data": {
      "image/png": "[encoded data removed]",
      "text/plain": [
       "<Figure size 432x288 with 1 Axes>"
      ]
     },
     "metadata": {
      "needs_background": "light"
     },
     "output_type": "display_data"
    }
   ],
   "source": [
    "import numpy as np\n",
    "from matplotlib import pyplot as plt\n",
    "\n",
    "def dispersionForce(x, alpha, C):\n",
    "    \"dispersionForce U=1/x^alpha\"\n",
    "    return -C/x**alpha\n",
    "\n",
    "N = 1200\n",
    "alpha = 3\n",
    "C = 1.9009\n",
    "dx = 10\n",
    "magicNum = 1\n",
    "X    = dx*np.linspace(0.1,N,N*magicNum)\n",
    "xn = range(0,int(N*magicNum))\n",
    "\n",
    "x = X[xn]/dx    #  Normalized position coordinate\n",
    "print(x)\n",
    "plt.xlim(0,10)\n",
    "plt.xlabel('r')\n",
    "plt.ylim(-0.3,0.5)\n",
    "plt.plot(x,dispersionForce(x, alpha, C))"
   ]
  },
  {
   "cell_type": "code",
   "execution_count": 22,
   "metadata": {},
   "outputs": [
    {
     "ename": "IndexError",
     "evalue": "index 4 is out of bounds for axis 0 with size 4",
     "output_type": "error",
     "traceback": [
      "\u001b[1;31m---------------------------------------------------------------------------\u001b[0m",
      "\u001b[1;31mIndexError\u001b[0m                                Traceback (most recent call last)",
      "\u001b[1;32m<ipython-input-22-6e0b9ee886e7>\u001b[0m in \u001b[0;36m<module>\u001b[1;34m\u001b[0m\n\u001b[0;32m      1\u001b[0m \u001b[0marr1\u001b[0m \u001b[1;33m=\u001b[0m \u001b[0mnp\u001b[0m\u001b[1;33m.\u001b[0m\u001b[0marray\u001b[0m\u001b[1;33m(\u001b[0m\u001b[1;33m[\u001b[0m\u001b[1;36m0\u001b[0m\u001b[1;33m,\u001b[0m\u001b[1;36m1\u001b[0m\u001b[1;33m,\u001b[0m\u001b[1;36m2\u001b[0m\u001b[1;33m,\u001b[0m\u001b[1;36m3\u001b[0m\u001b[1;33m]\u001b[0m\u001b[1;33m)\u001b[0m\u001b[1;33m\u001b[0m\u001b[1;33m\u001b[0m\u001b[0m\n\u001b[0;32m      2\u001b[0m \u001b[1;33m\u001b[0m\u001b[0m\n\u001b[1;32m----> 3\u001b[1;33m \u001b[0marr1\u001b[0m\u001b[1;33m[\u001b[0m\u001b[1;36m4\u001b[0m\u001b[1;33m]\u001b[0m \u001b[1;33m=\u001b[0m \u001b[1;36m3\u001b[0m\u001b[1;33m\u001b[0m\u001b[1;33m\u001b[0m\u001b[0m\n\u001b[0m",
      "\u001b[1;31mIndexError\u001b[0m: index 4 is out of bounds for axis 0 with size 4"
     ]
    }
   ],
   "source": [
    "arr1 = np.array([0,1,2,3])\n",
    "\n",
    "arr1[4] = 3"
   ]
  },
  {
   "cell_type": "code",
   "execution_count": null,
   "metadata": {},
   "outputs": [],
   "source": []
  }
 ],
 "metadata": {
  "kernelspec": {
   "display_name": "Python 3",
   "language": "python",
   "name": "python3"
  },
  "language_info": {
   "codemirror_mode": {
    "name": "ipython",
    "version": 3
   },
   "file_extension": ".py",
   "mimetype": "text/x-python",
   "name": "python",
   "nbconvert_exporter": "python",
   "pygments_lexer": "ipython3",
   "version": "3.6.8"
  }
 },
 "nbformat": 4,
 "nbformat_minor": 4
}

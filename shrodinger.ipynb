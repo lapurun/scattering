{
 "cells": [
  {
   "cell_type": "markdown",
   "metadata": {},
   "source": [
    "## Varible parameters:\n",
    "\\begin{align}\n",
    "    &(1)\\psi(x,t) \\to \\psi_{j,n} \\\\\n",
    "    &(2)\\lambda = 2\\epsilon^2 / \\delta \\\\\\\\\n",
    "    &\\left\\{ \\begin{aligned}\n",
    "    &(3)\\Omega_{j,n} = -\\psi_{j+1,n} + (i\\lambda + \\epsilon^2 V_{j} + 2)\\psi_{j,n} -\\psi_{j-1,n} \\\\\n",
    "    &(4)e_j = 2+\\epsilon^2 V_j - i\\lambda -\\frac{1}{e_{j-1}} \\\\\n",
    "    &(5)f_{j,n} = \\Omega_{j,n} + \\frac{f_{j-1,n}}{e_{j-1}} \\\\\n",
    "    \\end{aligned} \\right.\\\\\n",
    "    &(6)e_1 = 2 + \\epsilon^2 V_1 -i\\lambda \\\\\n",
    "    &(7)f_{1,n} = \\Omega_{1,n}\\\\\\\\\n",
    "    &(8)\\psi_{J-1,n+1} = -\\frac{f_{J-1,n}}{e_{J-1}}\\\\\n",
    "    &(9)\\psi_{j,n+1} = \\frac{\\psi_{j+1,n+1}-f_{j,n}}{e_j}\\\\\n",
    "\\end{align}\n",
    "\n",
    "## Algorism:\n",
    "1. calculate $e_j(j=1,2,...J-1)$ using (4) and (6)\n",
    "\n",
    "$n = 0$\n",
    "\n",
    "0.1. calculate $\\Omega_{j,0} (j=1,2,...J-1)$ using (3)\n",
    "\n",
    "0.2. calculate $f_{1,0}$ using (7)\n",
    "\n",
    "0.3.calculate $f_{j,0}(j=2,3,...J-1)$ using (5)\n",
    "\n",
    "0.4. calculate $\\psi_{J-1,1}$ using (8)\n",
    "\n",
    "0.5. calculate $\\psi_{j,n+1}(j=J-2,J-3,...2,1)$ using (9)\n",
    "\n",
    "$n = 1$\n",
    "\n",
    "loop the above calcusion for n = 1,2,...N\n"
   ]
  },
  {
   "cell_type": "code",
   "execution_count": 31,
   "metadata": {},
   "outputs": [],
   "source": [
    "import numpy as np\n",
    "from matplotlib import pyplot as plt"
   ]
  },
  {
   "cell_type": "markdown",
   "metadata": {},
   "source": [
    "## create a square-well potential"
   ]
  },
  {
   "cell_type": "code",
   "execution_count": 143,
   "metadata": {},
   "outputs": [
    {
     "data": {
      "text/plain": [
       "[<matplotlib.lines.Line2D at 0x119e74f60>]"
      ]
     },
     "execution_count": 143,
     "metadata": {},
     "output_type": "execute_result"
    },
    {
     "data": {
      "image/png": "[encoded data removed]",
      "text/plain": [
       "<Figure size 432x288 with 1 Axes>"
      ]
     },
     "metadata": {
      "needs_background": "light"
     },
     "output_type": "display_data"
    }
   ],
   "source": [
    "default_mesh = 100000\n",
    "\n",
    "x = np.linspace(0,100,default_mesh)\n",
    "def V_sq(mesh = default_mesh):\n",
    "    V_sq = np.zeros(mesh)\n",
    "    start = mesh//2\n",
    "    end = start + round(mesh*(0.1))\n",
    "    V_sq[start : end + 1] = 1\n",
    "    return V_sq\n",
    "\n",
    "plt.plot(x,V_sq())"
   ]
  },
  {
   "cell_type": "markdown",
   "metadata": {},
   "source": [
    "define gaussian f(x) as $f(x) = \\frac{1}{\\sqrt{2\\pi}\\sigma}\\exp(-\\frac{(x-x_0)^2}{2\\sigma^2})$\n",
    "\\begin{align}\n",
    "\\end{align}"
   ]
  },
  {
   "cell_type": "code",
   "execution_count": 144,
   "metadata": {},
   "outputs": [],
   "source": [
    "def wavePacket(x):\n",
    "    return (1/(np.sqrt(2*np.pi)*sigma))*np.exp(-((x-x_0)**2)/(2*sigma**2))\n"
   ]
  },
  {
   "cell_type": "code",
   "execution_count": 145,
   "metadata": {},
   "outputs": [],
   "source": [
    "sigma = 1\n",
    "x_0 = (1/4)*100"
   ]
  },
  {
   "cell_type": "code",
   "execution_count": 146,
   "metadata": {},
   "outputs": [
    {
     "data": {
      "image/png": "[encoded data removed]",
      "text/plain": [
       "<Figure size 432x288 with 1 Axes>"
      ]
     },
     "metadata": {
      "needs_background": "light"
     },
     "output_type": "display_data"
    }
   ],
   "source": [
    "x1 = np.linspace(-0,100,default_mesh)\n",
    "plt.plot(x1,wavePacket(x1))\n",
    "plt.plot(x1,V_sq())\n",
    "plt.grid()\n",
    "plt.show()"
   ]
  },
  {
   "cell_type": "markdown",
   "metadata": {},
   "source": [
    "\\begin{align}\n",
    "&\\epsilon = 0.0008 \\\\\n",
    "&\\delta = 0.000005 \\\\\n",
    "&\\lambda = 2\\epsilon^2 / \\delta \\\\\n",
    "\\end{align}"
   ]
  },
  {
   "cell_type": "code",
   "execution_count": 163,
   "metadata": {},
   "outputs": [],
   "source": [
    "x_i = np.linspace(0, 100, 100001)\n",
    "\n",
    "epsilon = 0.0008\n",
    "delta = 0.00005\n",
    "Lambda = 2*epsilon**2/delta\n",
    "\n",
    "J = int(100000)\n",
    "N = int(6000)"
   ]
  },
  {
   "cell_type": "code",
   "execution_count": 164,
   "metadata": {},
   "outputs": [],
   "source": [
    "psi = np.zeros((J+1, N+1), dtype=np.complex128)\n",
    "Omega   = np.zeros((J, N), dtype=np.complex128)\n",
    "e   = np.zeros( J,     dtype=np.complex128)\n",
    "f  = np.zeros((J, N), dtype=np.complex128)"
   ]
  },
  {
   "cell_type": "code",
   "execution_count": 165,
   "metadata": {},
   "outputs": [],
   "source": [
    "psi[1:-2,0] = wavePacket(x_i[1:-2])\n",
    "V_i = V_sq()"
   ]
  },
  {
   "cell_type": "code",
   "execution_count": 174,
   "metadata": {},
   "outputs": [
    {
     "ename": "TypeError",
     "evalue": "'function' object is not subscriptable",
     "output_type": "error",
     "traceback": [
      "\u001b[0;31m---------------------------------------------------------------------------\u001b[0m",
      "\u001b[0;31mTypeError\u001b[0m                                 Traceback (most recent call last)",
      "\u001b[0;32m<ipython-input-174-9b97ddebd9b7>\u001b[0m in \u001b[0;36m<module>\u001b[0;34m\u001b[0m\n\u001b[1;32m      7\u001b[0m \u001b[0;34m\u001b[0m\u001b[0m\n\u001b[1;32m      8\u001b[0m     \u001b[0;32mfor\u001b[0m \u001b[0mj\u001b[0m \u001b[0;32min\u001b[0m \u001b[0mrange\u001b[0m\u001b[0;34m(\u001b[0m\u001b[0;36m1\u001b[0m\u001b[0;34m,\u001b[0m\u001b[0mJ\u001b[0m\u001b[0;34m)\u001b[0m\u001b[0;34m:\u001b[0m\u001b[0;34m\u001b[0m\u001b[0;34m\u001b[0m\u001b[0m\n\u001b[0;32m----> 9\u001b[0;31m         \u001b[0mOmega\u001b[0m\u001b[0;34m[\u001b[0m\u001b[0mj\u001b[0m\u001b[0;34m,\u001b[0m\u001b[0mn\u001b[0m\u001b[0;34m]\u001b[0m \u001b[0;34m=\u001b[0m \u001b[0;34m-\u001b[0m\u001b[0mpsi\u001b[0m\u001b[0;34m[\u001b[0m\u001b[0mj\u001b[0m\u001b[0;34m+\u001b[0m\u001b[0;36m1\u001b[0m\u001b[0;34m,\u001b[0m\u001b[0mn\u001b[0m\u001b[0;34m]\u001b[0m \u001b[0;34m+\u001b[0m \u001b[0;34m(\u001b[0m\u001b[0;36m1j\u001b[0m\u001b[0;34m*\u001b[0m\u001b[0mLambda\u001b[0m \u001b[0;34m+\u001b[0m \u001b[0;34m(\u001b[0m\u001b[0mepsilon\u001b[0m\u001b[0;34m**\u001b[0m\u001b[0;36m2\u001b[0m\u001b[0;34m)\u001b[0m\u001b[0;34m*\u001b[0m\u001b[0mV_sq\u001b[0m\u001b[0;34m[\u001b[0m\u001b[0mj\u001b[0m\u001b[0;34m]\u001b[0m \u001b[0;34m+\u001b[0m \u001b[0;36m2\u001b[0m\u001b[0;34m)\u001b[0m\u001b[0;34m*\u001b[0m\u001b[0mpsi\u001b[0m\u001b[0;34m[\u001b[0m\u001b[0mj\u001b[0m\u001b[0;34m,\u001b[0m\u001b[0mn\u001b[0m\u001b[0;34m]\u001b[0m \u001b[0;34m-\u001b[0m \u001b[0mpsi\u001b[0m\u001b[0;34m[\u001b[0m\u001b[0mj\u001b[0m\u001b[0;34m-\u001b[0m\u001b[0;36m1\u001b[0m\u001b[0;34m,\u001b[0m\u001b[0mn\u001b[0m\u001b[0;34m]\u001b[0m\u001b[0;34m\u001b[0m\u001b[0;34m\u001b[0m\u001b[0m\n\u001b[0m",
      "\u001b[0;31mTypeError\u001b[0m: 'function' object is not subscriptable"
     ]
    }
   ],
   "source": [
    "e[1] = 2 + epsilon**2*V_i[1] -1j*Lambda\n",
    "\n",
    "for j in range(2,J):\n",
    "    e[j] = 2 + (epsilon**2)*V_i[j] -1j*Lambda - 1/e[j-1]\n",
    "\n",
    "for n in range(0,N):\n",
    "    \n",
    "    for j in range(1,J):\n",
    "        Omega[j,n] = -psi[j+1,n] + (1j*Lambda + (epsilon**2)*V_sq[j] + 2)*psi[j,n] - psi[j-1,n]"
   ]
  },
  {
   "cell_type": "code",
   "execution_count": null,
   "metadata": {},
   "outputs": [],
   "source": []
  }
 ],
 "metadata": {
  "kernelspec": {
   "display_name": "Python 3",
   "language": "python",
   "name": "python3"
  },
  "language_info": {
   "codemirror_mode": {
    "name": "ipython",
    "version": 3
   },
   "file_extension": ".py",
   "mimetype": "text/x-python",
   "name": "python",
   "nbconvert_exporter": "python",
   "pygments_lexer": "ipython3",
   "version": "3.7.3"
  }
 },
 "nbformat": 4,
 "nbformat_minor": 2
}
